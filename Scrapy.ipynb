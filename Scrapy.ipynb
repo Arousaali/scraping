{
 "cells": [
  {
   "cell_type": "markdown",
   "metadata": {},
   "source": [
    "# Scraper Google\n",
    "Objectif: récupérer le positionnement des sites sur le moteur de recherche Google\n",
    "\n",
    "### Import des packages"
   ]
  },
  {
   "cell_type": "code",
   "execution_count": null,
   "metadata": {},
   "outputs": [],
   "source": [
    "import requests\n",
    "import time\n",
    "from bs4 import BeautifulSoup\n",
    "from urllib.parse import urlparse\n",
    "import json\n",
    "import csv\n",
    "\n",
    "USER_AGENT = {'User-Agent':'Mozilla/5.0 (Windows NT 10.0; Win64; x64) AppleWebKit/537.36 (KHTML, like Gecko) Chrome/61.0.3163.100 Safari/537.36'}\n"
   ]
  },
  {
   "cell_type": "markdown",
   "metadata": {},
   "source": [
    "### Fonction qui récupère les résultats de Google"
   ]
  },
  {
   "cell_type": "code",
   "execution_count": null,
   "metadata": {},
   "outputs": [],
   "source": [
    "def fetch_results(search_term, number_results, language_code):\n",
    "    assert isinstance(search_term, str), 'Search term must be a string'\n",
    "    assert isinstance(number_results, int), 'Number of results must be an integer'\n",
    "    escaped_search_term = search_term.replace(' ', '+')\n",
    " \n",
    "    google_url = 'https://www.google.com/search?q={}&num={}&hl={}'.format(escaped_search_term, number_results, language_code)\n",
    "    response = requests.get(google_url, headers=USER_AGENT)\n",
    "    response.raise_for_status()\n",
    " \n",
    "    return search_term, response.text"
   ]
  },
  {
   "cell_type": "markdown",
   "metadata": {},
   "source": [
    "### Fonction qui structure les résultats"
   ]
  },
  {
   "cell_type": "code",
   "execution_count": null,
   "metadata": {},
   "outputs": [],
   "source": [
    "def parse_results(html, keyword):\n",
    "    soup = BeautifulSoup(html, 'html.parser')\n",
    "\n",
    "    found_results = []\n",
    "    rank = 1\n",
    "    result_block = soup.find_all('div', attrs={'class': 'g'})\n",
    "    for result in result_block:\n",
    "\n",
    "        link = result.find('a', href=True)\n",
    "        title = result.find('h3')\n",
    "        website = result.find('cite')\n",
    "        description = result.find('span', attrs={'class': 'st'})\n",
    "        if link and title:\n",
    "            link = link['href']\n",
    "            title = title.get_text()\n",
    "            if website:\n",
    "                website = urlparse(website.get_text()).netloc.split(' ')[0]                    \n",
    "            if description:\n",
    "                description = description.get_text()\n",
    "            if link != '#':\n",
    "                if website:\n",
    "                    found_results.append({'keyword': keyword, \n",
    "                                          'rank': rank, \n",
    "                                          'title': title, \n",
    "                                          'description': description, \n",
    "                                          'website': website})\n",
    "                    rank += 1\n",
    "    return found_results"
   ]
  },
  {
   "cell_type": "markdown",
   "metadata": {},
   "source": [
    "### Fonction qui exporte les résultats en csv"
   ]
  },
  {
   "cell_type": "code",
   "execution_count": null,
   "metadata": {},
   "outputs": [],
   "source": [
    "def export_csv(filepath, data):\n",
    "    outfile = open(filepath, \"w\", encoding=\"utf-8\", newline='')\n",
    "    keys = data[0].keys()\n",
    "    dict_writer = csv.DictWriter(outfile, keys)\n",
    "    dict_writer.writeheader()\n",
    "    dict_writer.writerows(data)\n",
    "    outfile.close()\n",
    "    return \"Fin de l'export\""
   ]
  },
  {
   "cell_type": "markdown",
   "metadata": {},
   "source": [
    "### Fonction principale"
   ]
  },
  {
   "cell_type": "code",
   "execution_count": null,
   "metadata": {},
   "outputs": [],
   "source": [
    "def scrape_google(search_term, number_results, language_code):\n",
    "    try:\n",
    "        keyword, html = fetch_results(search_term, number_results, language_code)\n",
    "        results = parse_results(html, keyword)\n",
    "        return results\n",
    "    except AssertionError:\n",
    "        raise Exception(\"Incorrect arguments parsed to function\")\n",
    "    except requests.HTTPError:\n",
    "        raise Exception(\"You appear to have been blocked by Google\")\n",
    "    except requests.RequestException:\n",
    "        raise Exception(\"Appears to be an issue with your connection\")"
   ]
  },
  {
   "cell_type": "markdown",
   "metadata": {},
   "source": [
    "### Définition des mots clés à scraper"
   ]
  },
  {
   "cell_type": "code",
   "execution_count": null,
   "metadata": {},
   "outputs": [],
   "source": [
    "keywords = ['location voiture']"
   ]
  },
  {
   "cell_type": "markdown",
   "metadata": {},
   "source": [
    "# Lancement du programme"
   ]
  },
  {
   "cell_type": "code",
   "execution_count": null,
   "metadata": {},
   "outputs": [],
   "source": [
    "_FILENAME_ = \"output.csv\"\n",
    "\n",
    "data = []\n",
    "for keyword in keywords:\n",
    "    try:\n",
    "        results = scrape_google(keyword, 100, \"fr\")\n",
    "        for result in results:\n",
    "            data.append(result)\n",
    "    except Exception as e:\n",
    "        print(e)\n",
    "    finally:\n",
    "        time.sleep(10)\n",
    "export_csv(_FILENAME_, data)\n"
   ]
  },
  {
   "cell_type": "code",
   "execution_count": null,
   "metadata": {},
   "outputs": [],
   "source": []
  }
 ],
 "metadata": {
  "kernelspec": {
   "display_name": "Python 3",
   "language": "python",
   "name": "python3"
  },
  "language_info": {
   "codemirror_mode": {
    "name": "ipython",
    "version": 3
   },
   "file_extension": ".py",
   "mimetype": "text/x-python",
   "name": "python",
   "nbconvert_exporter": "python",
   "pygments_lexer": "ipython3",
   "version": "3.6.5"
  }
 },
 "nbformat": 4,
 "nbformat_minor": 2
}
